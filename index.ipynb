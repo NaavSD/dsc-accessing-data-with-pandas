{
 "cells": [
  {
   "cell_type": "markdown",
   "metadata": {},
   "source": [
    "# Accessing Data within Pandas\n",
    "\n",
    "## Introduction\n",
    "In this lesson, we're going to dig into various methods for accessing data from our Pandas Series and DataFrames.\n",
    "\n",
    "## Objectives\n",
    "\n",
    "You will be able to:\n",
    "\n",
    "- Use pandas methods and attributes to access information about a dataset   \n",
    "- Index pandas dataframes with .loc, .iloc, and column names   \n",
    "- Use a boolean mask to index pandas series and dataframes \n",
    "\n",
    "\n",
    "\n",
    "\n",
    "## Importing pandas and the data\n",
    "\n",
    "First, let's make sure we import `pandas` as `pd`.\n",
    "\n",
    "> In the cell below, type the code to import the pandas library with the standard alias.\n",
    "\n",
    "<details>\n",
    "    <summary>\n",
    "        <b><u>Reveal Code</u></b>\n",
    "    </summary>\n",
    "    <pre><code language=\"python\">import pandas as pd\n",
    "    </code></pre>\n",
    "</details>\n"
   ]
  },
  {
   "cell_type": "code",
   "execution_count": 1,
   "metadata": {},
   "outputs": [],
   "source": [
    "# replace this comment with the code to import the pandas library and set the standard alias"
   ]
  },
  {
   "cell_type": "markdown",
   "metadata": {},
   "source": [
    "To show how to access data with Pandas, let's use the `wine` dataset in the scikit-learn library. Don't worry about the code below. We're essentially just making sure you have access to the `wine` dataset.\n",
    "\n",
    "The data contained in the wine dataset are the results of a chemical analysis of wines grown in Italy. It contains the quantities of 13 wine constituents. \n",
    "\n",
    "> To load the dataset, import the `load_wine` function from the `sklearn.datasets` library by typing in the following code:\n",
    "\n",
    "`from sklearn.datasets import load_wine`\n",
    "\n",
    "> Then we we will load the dataset by calling the function and assigning it to the variable `data` by typing the following code:\n",
    "\n",
    "`data = load_wine()`\n",
    "\n",
    "> Finally, we will create a DataFrame from `data` by typing in the following code:\n",
    "\n",
    "`df = pd.DataFrame(data.data, columns=data.feature_names)`"
   ]
  },
  {
   "cell_type": "code",
   "execution_count": 2,
   "metadata": {},
   "outputs": [],
   "source": [
    "# replace this comment with the code to import pandas and set the alias\n",
    "\n",
    "# replace this comment with the code to load the data and assign it to the variable\n",
    "\n",
    "# replace this comment with the code to create a DataFrame from the data\n"
   ]
  },
  {
   "cell_type": "markdown",
   "metadata": {},
   "source": [
    "Great! Our data set is now stored in the variable `df`. As you know, you can look at its elements by using `df` or `print(df)`.\n",
    "\n",
    "> In the cell below, print the DataFrame `df` to check that our code worked.\n",
    "\n",
    "<details>\n",
    "    <summary>\n",
    "        <b><u>Reveal Code</u></b>\n",
    "    </summary>\n",
    "    <pre><code language=\"python\">print(df)\n",
    "    </code></pre>\n",
    "</details>"
   ]
  },
  {
   "cell_type": "code",
   "execution_count": null,
   "metadata": {},
   "outputs": [],
   "source": [
    "# replace this comment with the code to print out the DataFrame we just created"
   ]
  },
  {
   "cell_type": "markdown",
   "metadata": {},
   "source": [
    "---\n",
    "#### Expected Output\n",
    "<pre><code>a pandas DataFrame with 178 rows and 13 columns and the following column names:\n",
    "alcohol  malic_acid   ash  alcalinity_of_ash  magnesium  total_phenols \n",
    "</code></pre>\n",
    "<details>\n",
    "    <summary>\n",
    "        <b><u>Click to Expand Complete Output</u></b>\n",
    "    </summary>\n",
    "<img src=\"images/df_example.png\">\n",
    "</details>\n",
    "\n",
    "---\n"
   ]
  },
  {
   "cell_type": "markdown",
   "metadata": {},
   "source": [
    "Now, what if you want to see only a few lines of the data, based on certain constraints? You'll learn how to access data in this lesson!"
   ]
  },
  {
   "cell_type": "markdown",
   "metadata": {},
   "source": [
    "## Methods and attributes to access data information"
   ]
  },
  {
   "cell_type": "markdown",
   "metadata": {},
   "source": [
    "It won't be a surprise that our `df` object is a Pandas DataFrame object. Let's verify this using the `type()` function: \n",
    "> In the cell below, use the `type()` function to check the data type of `df`:\n",
    "\n",
    "<details>\n",
    "    <summary>\n",
    "        <b><u>Reveal Code</u></b>\n",
    "    </summary>\n",
    "    <pre><code language=\"python\">type(df)\n",
    "    </code></pre>\n",
    "</details>"
   ]
  },
  {
   "cell_type": "code",
   "execution_count": null,
   "metadata": {},
   "outputs": [],
   "source": [
    "# replace this comment with the code to check the data type of `df`"
   ]
  },
  {
   "cell_type": "markdown",
   "metadata": {},
   "source": [
    "---\n",
    "#### Expected Output\n",
    "<pre><code>pandas.core.frame.DataFrame\n",
    "</code></pre>\n",
    "---"
   ]
  },
  {
   "cell_type": "markdown",
   "metadata": {},
   "source": [
    "There are some methods and attributes associated with Pandas objects (both DataFrames *and* series!) which make retrieving information from the data particularly easy. Some commonly used methods:\n",
    "- `.head()`\n",
    "- `.tail()`\n",
    "\n",
    "And attributes:\n",
    "- `.index`\n",
    "- `.columns`\n",
    "- `.dtypes`\n",
    "- `.shape`"
   ]
  },
  {
   "cell_type": "markdown",
   "metadata": {},
   "source": [
    "### Some methods: `.head()`, `.tail()`, and `.info()`"
   ]
  },
  {
   "cell_type": "markdown",
   "metadata": {},
   "source": [
    "By using `.head()` and `.tail()`, you can select the first or last $n$ rows from your dataframe. The default $n$ is 5, but you can change this value inside the parentheses. For example:\n",
    "\n",
    "> In the cell below, type the code to show the first 5 rows of `df` using the `head()` method:\n",
    "\n",
    "<details>\n",
    "    <summary>\n",
    "        <b><u>Reveal Code</u></b>\n",
    "    </summary>\n",
    "    <pre><code language=\"python\">df.head()\n",
    "    </code></pre>\n",
    "</details>"
   ]
  },
  {
   "cell_type": "code",
   "execution_count": null,
   "metadata": {},
   "outputs": [],
   "source": [
    "# replace this comment with the code to display the first 5 rows of df"
   ]
  },
  {
   "cell_type": "markdown",
   "metadata": {},
   "source": [
    "---\n",
    "#### Expected Output\n",
    "<pre><code>the first 5 lines of the DataFrame df with indices 0-4\n",
    "</code></pre>\n",
    "<details>\n",
    "    <summary>\n",
    "        <b><u>Click to Expand Complete Output</u></b>\n",
    "    </summary>\n",
    "<img src=\"images/head_example.png\">\n",
    "</details>\n",
    "\n",
    "---"
   ]
  },
  {
   "cell_type": "markdown",
   "metadata": {},
   "source": [
    "> In the cell below, type the code to display the last three rows of `df` using the `.tail()` method adding the value `3` to override the default value of the _n-rows_ parameter:\n",
    "<details>\n",
    "    <summary>\n",
    "        <b><u>Reveal Code</u></b>\n",
    "    </summary>\n",
    "    <pre><code language=\"python\">df.tail(3)\n",
    "    </code></pre>\n",
    "</details>"
   ]
  },
  {
   "cell_type": "code",
   "execution_count": null,
   "metadata": {},
   "outputs": [],
   "source": [
    "# replace this comment with the code to display the last 3 rows of df"
   ]
  },
  {
   "cell_type": "markdown",
   "metadata": {},
   "source": [
    "---\n",
    "#### Expected Output\n",
    "<pre><code>the last 3 lines of the DataFrame df with indices 175-177\n",
    "</code></pre>\n",
    "<details>\n",
    "    <summary>\n",
    "        <b><u>Click to Expand Complete Output</u></b>\n",
    "    </summary>\n",
    "<img src=\"images/tail_example.png\">\n",
    "</details>\n",
    "\n",
    "---\n"
   ]
  },
  {
   "cell_type": "markdown",
   "metadata": {},
   "source": [
    "To get a concise summary of the dataframe, you can use `.info()`: \n",
    "\n",
    "> In the cell below, type the code to display a summary of `df` by using the `.info()` method:\n",
    "\n",
    "<details>\n",
    "    <summary>\n",
    "        <b><u>Reveal Code</u></b>\n",
    "    </summary>\n",
    "    <pre><code language=\"python\">df.info()\n",
    "    </code></pre>\n",
    "</details>"
   ]
  },
  {
   "cell_type": "code",
   "execution_count": null,
   "metadata": {},
   "outputs": [],
   "source": [
    "# replace this comment with the code to display a summary of df"
   ]
  },
  {
   "cell_type": "markdown",
   "metadata": {},
   "source": [
    "---\n",
    "#### Expected Output\n",
    "<pre><code>a summary of the DataFrame df\n",
    "</code></pre>\n",
    "<details>\n",
    "    <summary>\n",
    "        <b><u>Click to Expand Complete Output</u></b>\n",
    "    </summary>\n",
    "    <pre><code language=\"python\">&lt;class 'pandas.core.frame.DataFrame'&gt;\n",
    "RangeIndex: 178 entries, 0 to 177\n",
    "Data columns (total 13 columns):\n",
    " #   Column                        Non-Null Count  Dtype  \n",
    "---  ------                        --------------  -----  \n",
    " 0   alcohol                       178 non-null    float64\n",
    " 1   malic_acid                    178 non-null    float64\n",
    " 2   ash                           178 non-null    float64\n",
    " 3   alcalinity_of_ash             178 non-null    float64\n",
    " 4   magnesium                     178 non-null    float64\n",
    " 5   total_phenols                 178 non-null    float64\n",
    " 6   flavanoids                    178 non-null    float64\n",
    " 7   nonflavanoid_phenols          178 non-null    float64\n",
    " 8   proanthocyanins               178 non-null    float64\n",
    " 9   color_intensity               178 non-null    float64\n",
    " 10  hue                           178 non-null    float64\n",
    " 11  od280/od315_of_diluted_wines  178 non-null    float64\n",
    " 12  proline                       178 non-null    float64\n",
    "dtypes: float64(13)\n",
    "memory usage: 18.2 KB\n",
    "    </code></pre>\n",
    "</details>\n",
    "\n",
    "---"
   ]
  },
  {
   "cell_type": "markdown",
   "metadata": {},
   "source": [
    "### Some attributes"
   ]
  },
  {
   "cell_type": "markdown",
   "metadata": {},
   "source": [
    "Using `.index`, you can access the index or row labels of the DataFrame.\n",
    "\n",
    "> In the cell below, type the code to display the information about the index using the `.index` attribute:\n",
    "\n",
    "<details>\n",
    "    <summary>\n",
    "        <b><u>Reveal Code</u></b>\n",
    "    </summary>\n",
    "    <pre><code language=\"python\">df.index\n",
    "    </code></pre>\n",
    "</details>"
   ]
  },
  {
   "cell_type": "code",
   "execution_count": null,
   "metadata": {},
   "outputs": [],
   "source": [
    "# replace this comment with the code to display information about the index of df"
   ]
  },
  {
   "cell_type": "markdown",
   "metadata": {},
   "source": [
    "\n",
    "---\n",
    "#### Expected Output\n",
    "<pre><code>RangeIndex(start=0, stop=178, step=1)\n",
    "</code></pre>\n",
    "---"
   ]
  },
  {
   "cell_type": "markdown",
   "metadata": {},
   "source": [
    "Using `.columns`, you can access the column labels of the DataFrame.\n",
    "\n",
    "> In the cell below, type the code to display the column information of `df` using the `.columns` attribute:\n",
    "\n",
    "<details>\n",
    "    <summary>\n",
    "        <b><u>Reveal Code</u></b>\n",
    "    </summary>\n",
    "    <pre><code language=\"python\">df.columns\n",
    "    </code></pre>\n",
    "</details>"
   ]
  },
  {
   "cell_type": "code",
   "execution_count": null,
   "metadata": {},
   "outputs": [],
   "source": [
    "# replace this comment with the code to display information about the columns of df  "
   ]
  },
  {
   "cell_type": "markdown",
   "metadata": {},
   "source": [
    "---\n",
    "#### Expected Output\n",
    "<pre><code>Index(['alcohol', 'malic_acid', 'ash', 'alcalinity_of_ash', 'magnesium',\n",
    "       'total_phenols', 'flavanoids', 'nonflavanoid_phenols',\n",
    "       'proanthocyanins', 'color_intensity', 'hue',\n",
    "       'od280/od315_of_diluted_wines', 'proline'],\n",
    "      dtype='object')\n",
    "</code></pre>\n",
    "---"
   ]
  },
  {
   "cell_type": "markdown",
   "metadata": {},
   "source": [
    "Using `.dtypes` returns the data types of all columns in the DataFrame (compare with `.info()`!)\n",
    "\n",
    "> In the cell below, type the code to display the data types of each column in `df` using the `.types` attribute:\n",
    "\n",
    "<details>\n",
    "    <summary>\n",
    "        <b><u>Reveal Code</u></b>\n",
    "    </summary>\n",
    "    <pre><code language=\"python\">df.types\n",
    "    </code></pre>\n",
    "</details>"
   ]
  },
  {
   "cell_type": "code",
   "execution_count": null,
   "metadata": {
    "scrolled": true
   },
   "outputs": [],
   "source": [
    "# replace this comment with the code to display the data types in df"
   ]
  },
  {
   "cell_type": "markdown",
   "metadata": {},
   "source": [
    "---\n",
    "#### Expected Output\n",
    "<pre><code>alcohol                         float64\n",
    "malic_acid                      float64\n",
    "ash                             float64\n",
    "alcalinity_of_ash               float64\n",
    "magnesium                       float64\n",
    "total_phenols                   float64\n",
    "flavanoids                      float64\n",
    "nonflavanoid_phenols            float64\n",
    "proanthocyanins                 float64\n",
    "color_intensity                 float64\n",
    "hue                             float64\n",
    "od280/od315_of_diluted_wines    float64\n",
    "proline                         float64\n",
    "dtype: object\n",
    "</code></pre>\n",
    "---"
   ]
  },
  {
   "cell_type": "markdown",
   "metadata": {},
   "source": [
    "`.shape` returns a tuple representing the dimensionality  (in `(rows, columns)` ) of the DataFrame.\n",
    "\n",
    "> In the cell below, type the code to display the shape of `df` using the `.shape` attribute:\n",
    "\n",
    "<details>\n",
    "    <summary>\n",
    "        <b><u>Reveal Code</u></b>\n",
    "    </summary>\n",
    "    <pre><code language=\"python\">df.shape\n",
    "    </code></pre>\n",
    "</details>"
   ]
  },
  {
   "cell_type": "code",
   "execution_count": null,
   "metadata": {},
   "outputs": [],
   "source": [
    "# replace this comment with the code to display the shape of df"
   ]
  },
  {
   "cell_type": "markdown",
   "metadata": {},
   "source": [
    "---\n",
    "#### Expected Output\n",
    "<pre><code>(178, 13)\n",
    "</code></pre>\n",
    "---"
   ]
  },
  {
   "cell_type": "markdown",
   "metadata": {},
   "source": [
    "## Selecting DataFrame information"
   ]
  },
  {
   "cell_type": "markdown",
   "metadata": {},
   "source": [
    "In the previous section, we deliberately omitted 2 very important attributes:\n",
    "- `.iloc`, which is a Pandas DataFrame indexer used for integer-location based indexing / selection by position \n",
    "- `.loc`, which has two use cases:\n",
    "       - Selecting by label / index\n",
    "       - Selecting with a boolean / conditional lookup\n"
   ]
  },
  {
   "cell_type": "markdown",
   "metadata": {},
   "source": [
    "### `.iloc`"
   ]
  },
  {
   "cell_type": "markdown",
   "metadata": {},
   "source": [
    "You can use `.iloc` to select single rows. To select the 4th row, you can use `.iloc[3]` like:\n",
    "\n",
    "> In the cell below, type the following code to select the 4th row of df:\n",
    "\n",
    "`df.iloc[3]`"
   ]
  },
  {
   "cell_type": "code",
   "execution_count": null,
   "metadata": {},
   "outputs": [],
   "source": [
    "# replace this comment with the code to select the 4th row of df"
   ]
  },
  {
   "cell_type": "markdown",
   "metadata": {},
   "source": [
    "---\n",
    "#### Expected Output\n",
    "<pre><code>alcohol                           14.37\n",
    "malic_acid                         1.95\n",
    "ash                                2.50\n",
    "alcalinity_of_ash                 16.80\n",
    "magnesium                        113.00\n",
    "total_phenols                      3.85\n",
    "flavanoids                         3.49\n",
    "nonflavanoid_phenols               0.24\n",
    "proanthocyanins                    2.18\n",
    "color_intensity                    7.80\n",
    "hue                                0.86\n",
    "od280/od315_of_diluted_wines       3.45\n",
    "proline                         1480.00\n",
    "Name: 3, dtype: float64\n",
    "</code></pre>\n",
    "\n",
    "---"
   ]
  },
  {
   "cell_type": "markdown",
   "metadata": {},
   "source": [
    "You can use a colon to select several rows. Note that you'll use a structure `.iloc[a:b]` where the row with index `a` will be included in the selection and the row with index `b` is excluded.\n",
    "\n",
    "> In the cell below, type the following code to select the rows of `df` with the index values of `5-7`\"\n",
    "\n",
    "`df.iloc[5:8]`"
   ]
  },
  {
   "cell_type": "code",
   "execution_count": null,
   "metadata": {},
   "outputs": [],
   "source": [
    "# replace this comment with the code to display the rows with the indicies of 5-7"
   ]
  },
  {
   "cell_type": "markdown",
   "metadata": {},
   "source": [
    "---\n",
    "#### Expected Output\n",
    "<pre><code>a section of the DataFrame df with the rows 5,6, and 7\n",
    "</code></pre>\n",
    "<details>\n",
    "    <summary>\n",
    "        <b><u>Click to Expand Complete Output</u></b>\n",
    "    </summary>\n",
    "    <img src=\"images/iloc_5-8.png\">\n",
    "</details>\n",
    "\n",
    "---"
   ]
  },
  {
   "cell_type": "markdown",
   "metadata": {},
   "source": [
    "Next, you can use `,` to perform *column* selections based on their index as well. The command below selects full columns 3-6:\n",
    "\n",
    "> In the cell below, type the following code to select columns `3-6` of `df`:\n",
    "\n",
    "`df.iloc[:, 3:7]`"
   ]
  },
  {
   "cell_type": "code",
   "execution_count": null,
   "metadata": {},
   "outputs": [],
   "source": [
    "# replace this comment with the code to select columns 3-6 of df"
   ]
  },
  {
   "cell_type": "markdown",
   "metadata": {},
   "source": [
    "---\n",
    "#### Expected Output\n",
    "<pre><code>a section of the df DataFrame with 178 rows and 4 columns\n",
    "</code></pre>\n",
    "<details>\n",
    "    <summary>\n",
    "        <b><u>Click to Expand Complete Output</u></b>\n",
    "    </summary>\n",
    "    <img src=\"images/iloc_3-7.png\">\n",
    "</details>\n",
    "\n",
    "---"
   ]
  },
  {
   "cell_type": "markdown",
   "metadata": {},
   "source": [
    "Last but not least, you can perform column and row selections at once:\n",
    "\n",
    "> In the cell below, type the following code to display rows 5-9 and columns 3-8 using the `iloc` attribute:\n",
    "\n",
    "`df.iloc[5:10, 3:9]`"
   ]
  },
  {
   "cell_type": "code",
   "execution_count": null,
   "metadata": {},
   "outputs": [],
   "source": [
    "# replace this comment with the code to display the desired portion of df"
   ]
  },
  {
   "cell_type": "markdown",
   "metadata": {},
   "source": [
    "---\n",
    "#### Expected Output\n",
    "<pre><code>a section of the df DataFrame containing rows 5-9 and columns 3-8\n",
    "</code></pre>\n",
    "<details>\n",
    "    <summary>\n",
    "        <b><u>Click to Expand Complete Output</u></b>\n",
    "    </summary>\n",
    "    <img src=\"images/iloc_rows_columns.png\">\n",
    "</details>\n",
    "\n",
    "---"
   ]
  },
  {
   "cell_type": "markdown",
   "metadata": {},
   "source": [
    "### `.loc`"
   ]
  },
  {
   "cell_type": "markdown",
   "metadata": {},
   "source": [
    " #### a) `.loc` label-based indexing"
   ]
  },
  {
   "cell_type": "markdown",
   "metadata": {},
   "source": [
    "You can `.loc` to select columns based on their (row index and) column name. Examples:\n",
    "\n",
    "> In the cell below, type the following code to display the information in the `magnesium` column:\n",
    "\n",
    "`df.loc[:, 'magnesium']`"
   ]
  },
  {
   "cell_type": "code",
   "execution_count": null,
   "metadata": {},
   "outputs": [],
   "source": [
    "# replace this comment with the code to display the desired portion of df"
   ]
  },
  {
   "cell_type": "markdown",
   "metadata": {},
   "source": [
    "---\n",
    "#### Expected Output\n",
    "<pre><code>0      127.0\n",
    "1      100.0\n",
    "2      101.0\n",
    "3      113.0\n",
    "4      118.0\n",
    "       ...  \n",
    "173     95.0\n",
    "174    102.0\n",
    "175    120.0\n",
    "176    120.0\n",
    "177     96.0\n",
    "Name: magnesium, Length: 178, dtype: float64\n",
    "</code></pre>\n",
    "\n",
    "---"
   ]
  },
  {
   "cell_type": "markdown",
   "metadata": {},
   "source": [
    "An alternative method here is simply calling `df['magnesium']`!\n",
    "\n",
    "> In the cell below, type the following code to select rows 7-16 of just the `magnesium` column:\n",
    "\n",
    "`df.loc[7:16, 'magnesium']`"
   ]
  },
  {
   "cell_type": "code",
   "execution_count": 4,
   "metadata": {},
   "outputs": [],
   "source": [
    "# replace this comment with the code to select the desired rows of the magnesium column"
   ]
  },
  {
   "cell_type": "markdown",
   "metadata": {},
   "source": [
    "---\n",
    "#### Expected Output\n",
    "<pre><code>7     121.0\n",
    "8      97.0\n",
    "9      98.0\n",
    "10    105.0\n",
    "11     95.0\n",
    "12     89.0\n",
    "13     91.0\n",
    "14    102.0\n",
    "15    112.0\n",
    "16    120.0\n",
    "Name: magnesium, dtype: float64\n",
    "</code></pre>\n",
    "\n",
    "---"
   ]
  },
  {
   "cell_type": "markdown",
   "metadata": {},
   "source": [
    "#### b) boolean indexing using `.loc`"
   ]
  },
  {
   "cell_type": "markdown",
   "metadata": {},
   "source": [
    "Sometimes you'd like to select certain rows in your dataset based on the value for a certain variable. Imagine you'd like to create a new DataFrame that only contains the wines with an alcohol percentage below 12. This can be done as follows:\n",
    "\n",
    "> In the cell below, type the following code to select the rows with and alcohol percentage below 12:\n",
    "\n",
    "`df.loc[df['alcohol'] < 12]`"
   ]
  },
  {
   "cell_type": "code",
   "execution_count": null,
   "metadata": {},
   "outputs": [],
   "source": [
    "# replace this comment with the code to select the rows with the desired values"
   ]
  },
  {
   "cell_type": "markdown",
   "metadata": {},
   "source": [
    "---\n",
    "#### Expected Output\n",
    "<pre><code>all rows of the df DataFrame where the alcohol value is less than 12\n",
    "</code></pre>\n",
    "<details>\n",
    "    <summary>\n",
    "        <b><u>Click to Expand Complete Output</u></b>\n",
    "    </summary>\n",
    "    <img src=\"images/loc.png\">\n",
    "</details>\n",
    "\n",
    "---"
   ]
  },
  {
   "cell_type": "markdown",
   "metadata": {},
   "source": [
    "You can verify that simply using `df[df['alcohol'] < 12]`, you can obtain the same result!"
   ]
  },
  {
   "cell_type": "markdown",
   "metadata": {},
   "source": [
    "However, the .`loc` attribute is useful if you'd only want the color intensity for the wines with an alcohol percentage below 12. You can obtain the result as follows:\n",
    "\n",
    "> In the cell below, type the following code to select the `color_intensity` of the rows with an `alcohol` percentage less than 12:\n",
    "\n",
    "`df.loc[df['alcohol'] < 12, ['color_intensity']]`"
   ]
  },
  {
   "cell_type": "code",
   "execution_count": null,
   "metadata": {},
   "outputs": [],
   "source": [
    "# replace this comment with the code to select the desired records from the df DataFrame"
   ]
  },
  {
   "cell_type": "markdown",
   "metadata": {},
   "source": [
    "---\n",
    "#### Expected Output\n",
    "<pre><code>a section of the df DataFrame with the color_intensity of the rows with alcohol less than 12\n",
    "</code></pre>\n",
    "<details>\n",
    "    <summary>\n",
    "        <b><u>Click to Expand Complete Output</u></b>\n",
    "    </summary>\n",
    "    <img src=\"images/loc_2.png\">\n",
    "</details>\n",
    "\n",
    "---"
   ]
  },
  {
   "cell_type": "markdown",
   "metadata": {},
   "source": [
    "## Selectors for series"
   ]
  },
  {
   "cell_type": "markdown",
   "metadata": {},
   "source": [
    "Until now we've only really discussed Pandas DataFrames. Most of these methods and selectors are also applicable to Pandas Series. See how you can convert a one-column DataFrame into a Pandas Series:\n",
    "\n",
    "> In the cell below, type the code to save just the `color_intensity` column as the variable `col_intensity`:\n",
    "\n",
    "<details>\n",
    "    <summary>\n",
    "        <b><u>Reveal Code</u></b>\n",
    "    </summary>\n",
    "    <pre><code language=\"python\">col_intensity = df['color_intensity']\n",
    "    </code></pre>\n",
    "</details>"
   ]
  },
  {
   "cell_type": "code",
   "execution_count": null,
   "metadata": {},
   "outputs": [],
   "source": [
    "# Let's save our color intensity dataframe into an object col_intensity"
   ]
  },
  {
   "cell_type": "markdown",
   "metadata": {},
   "source": [
    "> In the cell below, use the `type()` function to check the data type of `col_intensity`:\n",
    "\n",
    "<details>\n",
    "    <summary>\n",
    "        <b><u>Reveal Code</u></b>\n",
    "    </summary>\n",
    "    <pre><code language=\"python\">type(col_intensity)\n",
    "    </code></pre>\n",
    "</details>"
   ]
  },
  {
   "cell_type": "code",
   "execution_count": null,
   "metadata": {},
   "outputs": [],
   "source": [
    "# replace this comment with the code to display the data type of col_intensity"
   ]
  },
  {
   "cell_type": "markdown",
   "metadata": {},
   "source": [
    "---\n",
    "#### Expected Output\n",
    "<pre><code>pandas.core.series.Series\n",
    "</code></pre>\n",
    "\n",
    "---"
   ]
  },
  {
   "cell_type": "markdown",
   "metadata": {},
   "source": [
    "Note how `col_intensity` is now a Pandas *Series*."
   ]
  },
  {
   "cell_type": "markdown",
   "metadata": {},
   "source": [
    "Many of the commands discussed before are readily applicable to series:\n",
    "\n",
    "> In the cell below, type the code to select the records with indices `0-2` in the series `col_intensity`:\n",
    "\n",
    "<details>\n",
    "    <summary>\n",
    "        <b><u>Reveal Code</u></b>\n",
    "    </summary>\n",
    "    <pre><code language=\"python\">col_intensity[0:3]\n",
    "    </code></pre>\n",
    "</details>"
   ]
  },
  {
   "cell_type": "code",
   "execution_count": null,
   "metadata": {},
   "outputs": [],
   "source": [
    "# replace this comment with the code to select the records at indices 0-2 in col_intensity"
   ]
  },
  {
   "cell_type": "markdown",
   "metadata": {},
   "source": [
    "---\n",
    "#### Expected Output\n",
    "<pre><code>0    5.64\n",
    "1    4.38\n",
    "2    5.68\n",
    "Name: color_intensity, dtype: float64\n",
    "</code></pre>\n",
    "\n",
    "---"
   ]
  },
  {
   "cell_type": "markdown",
   "metadata": {},
   "source": [
    "> In the cell below, type the code to select the records with a value `>8` in the series `col_intensity`:\n",
    "\n",
    "<details>\n",
    "    <summary>\n",
    "        <b><u>Reveal Code</u></b>\n",
    "    </summary>\n",
    "    <pre><code language=\"python\">col_intensity[col_intensity > 8]\n",
    "    or\n",
    "col_intensity.loc[col_intensity > 8]\n",
    "</code></pre>\n",
    "</details>"
   ]
  },
  {
   "cell_type": "code",
   "execution_count": null,
   "metadata": {},
   "outputs": [],
   "source": [
    "# replace this comment with the code to select the records with a value > 8"
   ]
  },
  {
   "cell_type": "markdown",
   "metadata": {},
   "source": [
    "---\n",
    "#### Expected Output\n",
    "<pre><code>18      8.700000\n",
    "49      8.900000\n",
    "144     8.210000\n",
    "148     8.420000\n",
    "149     9.400000\n",
    "150     8.600000\n",
    "151    10.800000\n",
    "153    10.520000\n",
    "156     9.010000\n",
    "158    13.000000\n",
    "159    11.750000\n",
    "164     9.580000\n",
    "166    10.680000\n",
    "167    10.260000\n",
    "168     8.660000\n",
    "169     8.500000\n",
    "171     9.899999\n",
    "172     9.700000\n",
    "175    10.200000\n",
    "176     9.300000\n",
    "177     9.200000\n",
    "Name: color_intensity, dtype: float64\n",
    "</code></pre>\n",
    "\n",
    "---"
   ]
  },
  {
   "cell_type": "markdown",
   "metadata": {},
   "source": [
    "## Changing and setting values in DataFrames and series"
   ]
  },
  {
   "cell_type": "markdown",
   "metadata": {},
   "source": [
    "### Changing values"
   ]
  },
  {
   "cell_type": "markdown",
   "metadata": {},
   "source": [
    "Imagine that for some reason, you're not interested in the color intensity values for color intensities above 10, and simply want to set all color intensities to 10 when they are bigger than 10. You can use a selector method and then assign it a new value, just like this:\n",
    "\n",
    "> In the cell below, type the following code to select all records with `color_intensity` > 10 and change thier respective values to 10:\n",
    "\n",
    "`df.loc[df['color_intensity'] > 10, 'color_intensity'] = 10`"
   ]
  },
  {
   "cell_type": "code",
   "execution_count": 4,
   "metadata": {},
   "outputs": [],
   "source": [
    "# replace this comment with the code to select and change the desired records"
   ]
  },
  {
   "cell_type": "markdown",
   "metadata": {},
   "source": [
    "We can check that this made the changes we were expecting with the following code:\n",
    "\n",
    "> In the cell below, type the code to select the records with `color_intensity` greater than or equal to 10 to see that our changes were made:\n",
    "\n",
    "<details>\n",
    "    <summary>\n",
    "        <b><u>Reveal Code</u></b>\n",
    "    </summary>\n",
    "    <pre><code language=\"python\">df.loc[df['color_intensity'] >= 10, 'color_intensity']\n",
    "    </code></pre>\n",
    "</details>"
   ]
  },
  {
   "cell_type": "code",
   "execution_count": null,
   "metadata": {},
   "outputs": [],
   "source": [
    "# replace this comment with the code to show that our changes were made"
   ]
  },
  {
   "cell_type": "markdown",
   "metadata": {},
   "source": [
    "---\n",
    "#### Expected Output\n",
    "<pre><code>151    10.0\n",
    "153    10.0\n",
    "158    10.0\n",
    "159    10.0\n",
    "166    10.0\n",
    "167    10.0\n",
    "175    10.0\n",
    "Name: color_intensity, dtype: float64\n",
    "</code></pre>\n",
    "---"
   ]
  },
  {
   "cell_type": "markdown",
   "metadata": {},
   "source": [
    "### Creating new columns"
   ]
  },
  {
   "cell_type": "markdown",
   "metadata": {},
   "source": [
    "Now imagine that we want to create a new column named, \"shade\" which has a value, \"light\" when the `color_intensity` is at or below 7, and, \"dark\" when the intensity is > 7. This can be done as follows:\n",
    "\n",
    "> In the cell below, type the code to select and change the `color_intensity` value of all records where the value is greater than 7 to `dark` and the `color_intensity` value of all records where the value is less than or equal to 7 to `light`\n",
    "\n",
    "<details>\n",
    "    <summary>\n",
    "        <b><u>Reveal Code</u></b>\n",
    "    </summary>\n",
    "    <pre><code language=\"python\">df.loc[df['color_intensity'] > 7, 'shade'] = 'dark'\n",
    "df.loc[df['color_intensity'] <= 7, 'shade'] = 'light'\n",
    "    </code></pre>\n",
    "</details>"
   ]
  },
  {
   "cell_type": "code",
   "execution_count": 8,
   "metadata": {},
   "outputs": [],
   "source": [
    "# replace this comment with the code to make the desired changes to the DataFrame"
   ]
  },
  {
   "cell_type": "markdown",
   "metadata": {},
   "source": [
    "> In the cell below, type the code to display the first 10 rows of df to see that the the changes have been made:\n",
    "\n",
    "<details>\n",
    "    <summary>\n",
    "        <b><u>Reveal Code</u></b>\n",
    "    </summary>\n",
    "    <pre><code language=\"python\">df.head(10)\n",
    "    </code></pre>\n",
    "</details>"
   ]
  },
  {
   "cell_type": "code",
   "execution_count": null,
   "metadata": {},
   "outputs": [],
   "source": [
    "# replace this comment with the code to display the first 10 rows of df"
   ]
  },
  {
   "cell_type": "markdown",
   "metadata": {},
   "source": [
    "---\n",
    "#### Expected Output\n",
    "<pre><code>the first 10 rows of df\n",
    "</code></pre>\n",
    "<details>\n",
    "    <summary>\n",
    "        <b><u>Click to Expand Complete Output</u></b>\n",
    "    </summary>\n",
    "    <img src=\"images/df_add_shade.png\">\n",
    "</details>\n",
    "\n",
    "---"
   ]
  },
  {
   "cell_type": "markdown",
   "metadata": {},
   "source": [
    "If you now look at the output of `df.shape`, you will notice that `df` now has 14 columns. If you look at the output of `df.info()` you can see that we have created a new column `shade`\n",
    "\n",
    "> In the cells below use `.shape` and `.info()` to see that the changes have been made.\n",
    "\n",
    "<details>\n",
    "    <summary>\n",
    "        <b><u>Reveal Code</u></b>\n",
    "    </summary>\n",
    "    <pre><code language=\"python\">df.shape\n",
    "df.info()\n",
    "    </code></pre>\n",
    "</details>"
   ]
  },
  {
   "cell_type": "code",
   "execution_count": null,
   "metadata": {},
   "outputs": [],
   "source": [
    "# replace this comment with the code to display the shape of df"
   ]
  },
  {
   "cell_type": "markdown",
   "metadata": {},
   "source": [
    "---\n",
    "#### Expected Output\n",
    "<pre><code>(178, 14)\n",
    "</code></pre>\n",
    "---"
   ]
  },
  {
   "cell_type": "code",
   "execution_count": null,
   "metadata": {},
   "outputs": [],
   "source": [
    "# replace this comment with the code to display the summary information for df"
   ]
  },
  {
   "cell_type": "markdown",
   "metadata": {},
   "source": [
    "---\n",
    "#### Expected Output\n",
    "<details>\n",
    "    <summary>\n",
    "        <b><u>Click to Expand Complete Output</u></b>\n",
    "    </summary>\n",
    "    <pre><code language=\"python\"><class 'pandas.core.frame.DataFrame'>\n",
    "RangeIndex: 178 entries, 0 to 177\n",
    "Data columns (total 14 columns):\n",
    " #   Column                        Non-Null Count  Dtype  \n",
    "---  ------                        --------------  -----  \n",
    " 0   alcohol                       178 non-null    float64\n",
    " 1   malic_acid                    178 non-null    float64\n",
    " 2   ash                           178 non-null    float64\n",
    " 3   alcalinity_of_ash             178 non-null    float64\n",
    " 4   magnesium                     178 non-null    float64\n",
    " 5   total_phenols                 178 non-null    float64\n",
    " 6   flavanoids                    178 non-null    float64\n",
    " 7   nonflavanoid_phenols          178 non-null    float64\n",
    " 8   proanthocyanins               178 non-null    float64\n",
    " 9   color_intensity               178 non-null    float64\n",
    " 10  hue                           178 non-null    float64\n",
    " 11  od280/od315_of_diluted_wines  178 non-null    float64\n",
    " 12  proline                       178 non-null    float64\n",
    " 13  shade                         178 non-null    object \n",
    "dtypes: float64(13), object(1)\n",
    "memory usage: 19.6+ KB\n",
    "    </code></pre>\n",
    "</details>\n",
    "\n",
    "---"
   ]
  },
  {
   "cell_type": "markdown",
   "metadata": {},
   "source": [
    "## Summary\n",
    "\n",
    "We've introduced a range of techniques for accessing information in Pandas Series and DataFrames, selecting rows and columns, changing values, and creating new columns! Now, it's time for some practice! Let's start working on a lab where you will get a chance to practice some of these methods!"
   ]
  }
 ],
 "metadata": {
  "kernelspec": {
   "display_name": "Python 3",
   "language": "python",
   "name": "python3"
  },
  "language_info": {
   "codemirror_mode": {
    "name": "ipython",
    "version": 3
   },
   "file_extension": ".py",
   "mimetype": "text/x-python",
   "name": "python",
   "nbconvert_exporter": "python",
   "pygments_lexer": "ipython3",
   "version": "3.8.5"
  }
 },
 "nbformat": 4,
 "nbformat_minor": 2
}
